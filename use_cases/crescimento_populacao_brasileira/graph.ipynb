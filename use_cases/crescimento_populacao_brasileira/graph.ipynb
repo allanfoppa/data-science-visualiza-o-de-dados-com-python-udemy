{
 "cells": [
  {
   "cell_type": "markdown",
   "metadata": {},
   "source": [
    "# Study case"
   ]
  },
  {
   "cell_type": "code",
   "execution_count": null,
   "metadata": {},
   "outputs": [],
   "source": [
    "import matplotlib.pyplot as plt"
   ]
  },
  {
   "cell_type": "code",
   "execution_count": null,
   "metadata": {},
   "outputs": [],
   "source": [
    "data = open('assets/populacao_brasileira.csv').readlines()"
   ]
  },
  {
   "cell_type": "code",
   "execution_count": null,
   "metadata": {},
   "outputs": [],
   "source": [
    "x = []\n",
    "y = []\n",
    "\n",
    "title = 'Crescimento da população brasileira de 1980-2016'\n",
    "axis_x = 'Ano'\n",
    "axis_y = 'População X 100.000.000'"
   ]
  },
  {
   "cell_type": "code",
   "execution_count": null,
   "metadata": {},
   "outputs": [],
   "source": [
    "for i in range(1, len(data)):\n",
    "  line = data[i].split(';')\n",
    "  x.append(int(line[0]))\n",
    "  y.append(int(line[1]))"
   ]
  },
  {
   "cell_type": "code",
   "execution_count": null,
   "metadata": {},
   "outputs": [],
   "source": [
    "plt.title(title)\n",
    "\n",
    "plt.xlabel(axis_x)\n",
    "plt.ylabel(axis_y)\n",
    "\n",
    "plt.bar(x, y, color=\"#e4e4e4\")\n",
    "plt.plot(x, y, color=\"k\", lineStyle=\"--\")\n",
    "\n",
    "plt.show()\n",
    "# plt.savefig('nome_da_imagem.png', dpi=300) # png as default"
   ]
  }
 ],
 "metadata": {
  "interpreter": {
   "hash": "916dbcbb3f70747c44a77c7bcd40155683ae19c65e1c03b4aa3499c5328201f1"
  },
  "kernelspec": {
   "display_name": "Python 3.8.10 64-bit",
   "language": "python",
   "name": "python3"
  },
  "language_info": {
   "codemirror_mode": {
    "name": "ipython",
    "version": 3
   },
   "file_extension": ".py",
   "mimetype": "text/x-python",
   "name": "python",
   "nbconvert_exporter": "python",
   "pygments_lexer": "ipython3",
   "version": "3.8.10"
  },
  "orig_nbformat": 4
 },
 "nbformat": 4,
 "nbformat_minor": 2
}
